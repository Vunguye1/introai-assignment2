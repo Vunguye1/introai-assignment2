{
 "cells": [
  {
   "cell_type": "markdown",
   "metadata": {},
   "source": [
    "- Import for python"
   ]
  },
  {
   "cell_type": "code",
   "execution_count": 245,
   "metadata": {},
   "outputs": [],
   "source": [
    "%matplotlib inline\n",
    "\n",
    "import numpy as np\n",
    "import pandas as pd\n",
    "import seaborn as sns\n",
    "import matplotlib.pyplot as plt\n",
    "from sklearn import preprocessing\n",
    "from sklearn.linear_model import LinearRegression\n",
    "from sklearn.model_selection import train_test_split\n",
    "from sklearn import metrics\n",
    "from sklearn.preprocessing import OneHotEncoder\n"
   ]
  },
  {
   "cell_type": "markdown",
   "metadata": {},
   "source": [
    "1. Get data from API"
   ]
  },
  {
   "cell_type": "code",
   "execution_count": 246,
   "metadata": {},
   "outputs": [
    {
     "data": {
      "text/html": [
       "<div>\n",
       "<style scoped>\n",
       "    .dataframe tbody tr th:only-of-type {\n",
       "        vertical-align: middle;\n",
       "    }\n",
       "\n",
       "    .dataframe tbody tr th {\n",
       "        vertical-align: top;\n",
       "    }\n",
       "\n",
       "    .dataframe thead th {\n",
       "        text-align: right;\n",
       "    }\n",
       "</style>\n",
       "<table border=\"1\" class=\"dataframe\">\n",
       "  <thead>\n",
       "    <tr style=\"text-align: right;\">\n",
       "      <th></th>\n",
       "      <th>Date</th>\n",
       "      <th>Open</th>\n",
       "      <th>High</th>\n",
       "      <th>Low</th>\n",
       "      <th>Close</th>\n",
       "      <th>Adj Close</th>\n",
       "      <th>Volume</th>\n",
       "    </tr>\n",
       "  </thead>\n",
       "  <tbody>\n",
       "    <tr>\n",
       "      <th>0</th>\n",
       "      <td>2010-06-29</td>\n",
       "      <td>3.800</td>\n",
       "      <td>5.000</td>\n",
       "      <td>3.508</td>\n",
       "      <td>4.778</td>\n",
       "      <td>4.778</td>\n",
       "      <td>93831500</td>\n",
       "    </tr>\n",
       "    <tr>\n",
       "      <th>1</th>\n",
       "      <td>2010-06-30</td>\n",
       "      <td>5.158</td>\n",
       "      <td>6.084</td>\n",
       "      <td>4.660</td>\n",
       "      <td>4.766</td>\n",
       "      <td>4.766</td>\n",
       "      <td>85935500</td>\n",
       "    </tr>\n",
       "    <tr>\n",
       "      <th>2</th>\n",
       "      <td>2010-07-01</td>\n",
       "      <td>5.000</td>\n",
       "      <td>5.184</td>\n",
       "      <td>4.054</td>\n",
       "      <td>4.392</td>\n",
       "      <td>4.392</td>\n",
       "      <td>41094000</td>\n",
       "    </tr>\n",
       "    <tr>\n",
       "      <th>3</th>\n",
       "      <td>2010-07-02</td>\n",
       "      <td>4.600</td>\n",
       "      <td>4.620</td>\n",
       "      <td>3.742</td>\n",
       "      <td>3.840</td>\n",
       "      <td>3.840</td>\n",
       "      <td>25699000</td>\n",
       "    </tr>\n",
       "    <tr>\n",
       "      <th>4</th>\n",
       "      <td>2010-07-06</td>\n",
       "      <td>4.000</td>\n",
       "      <td>4.000</td>\n",
       "      <td>3.166</td>\n",
       "      <td>3.222</td>\n",
       "      <td>3.222</td>\n",
       "      <td>34334500</td>\n",
       "    </tr>\n",
       "  </tbody>\n",
       "</table>\n",
       "</div>"
      ],
      "text/plain": [
       "         Date   Open   High    Low  Close  Adj Close    Volume\n",
       "0  2010-06-29  3.800  5.000  3.508  4.778      4.778  93831500\n",
       "1  2010-06-30  5.158  6.084  4.660  4.766      4.766  85935500\n",
       "2  2010-07-01  5.000  5.184  4.054  4.392      4.392  41094000\n",
       "3  2010-07-02  4.600  4.620  3.742  3.840      3.840  25699000\n",
       "4  2010-07-06  4.000  4.000  3.166  3.222      3.222  34334500"
      ]
     },
     "execution_count": 246,
     "metadata": {},
     "output_type": "execute_result"
    }
   ],
   "source": [
    "df = pd.read_csv(\"https://raw.githubusercontent.com/atikagondal/Assignment-2-dave3625-202323/main/TSLA.csv\")\n",
    "\n",
    "\n",
    "df.head()"
   ]
  },
  {
   "cell_type": "markdown",
   "metadata": {},
   "source": [
    "2. Lets see correlation in our dataset"
   ]
  },
  {
   "cell_type": "code",
   "execution_count": 247,
   "metadata": {},
   "outputs": [
    {
     "name": "stderr",
     "output_type": "stream",
     "text": [
      "C:\\Users\\nguye\\AppData\\Local\\Temp\\ipykernel_19556\\1125255195.py:1: FutureWarning: The default value of numeric_only in DataFrame.corr is deprecated. In a future version, it will default to False. Select only valid columns or specify the value of numeric_only to silence this warning.\n",
      "  corr = df.corr()\n"
     ]
    },
    {
     "data": {
      "text/html": [
       "<style type=\"text/css\">\n",
       "#T_2e8c1_row0_col0, #T_2e8c1_row0_col1, #T_2e8c1_row0_col2, #T_2e8c1_row0_col3, #T_2e8c1_row0_col4, #T_2e8c1_row1_col0, #T_2e8c1_row1_col1, #T_2e8c1_row1_col2, #T_2e8c1_row1_col3, #T_2e8c1_row1_col4, #T_2e8c1_row2_col0, #T_2e8c1_row2_col1, #T_2e8c1_row2_col2, #T_2e8c1_row2_col3, #T_2e8c1_row2_col4, #T_2e8c1_row3_col0, #T_2e8c1_row3_col1, #T_2e8c1_row3_col2, #T_2e8c1_row3_col3, #T_2e8c1_row3_col4, #T_2e8c1_row4_col0, #T_2e8c1_row4_col1, #T_2e8c1_row4_col2, #T_2e8c1_row4_col3, #T_2e8c1_row4_col4, #T_2e8c1_row5_col5 {\n",
       "  background-color: #b40426;\n",
       "  color: #f1f1f1;\n",
       "}\n",
       "#T_2e8c1_row0_col5, #T_2e8c1_row3_col5, #T_2e8c1_row4_col5 {\n",
       "  background-color: #3c4ec2;\n",
       "  color: #f1f1f1;\n",
       "}\n",
       "#T_2e8c1_row1_col5 {\n",
       "  background-color: #3e51c5;\n",
       "  color: #f1f1f1;\n",
       "}\n",
       "#T_2e8c1_row2_col5, #T_2e8c1_row5_col0, #T_2e8c1_row5_col1, #T_2e8c1_row5_col2, #T_2e8c1_row5_col3, #T_2e8c1_row5_col4 {\n",
       "  background-color: #3b4cc0;\n",
       "  color: #f1f1f1;\n",
       "}\n",
       "</style>\n",
       "<table id=\"T_2e8c1\">\n",
       "  <thead>\n",
       "    <tr>\n",
       "      <th class=\"blank level0\" >&nbsp;</th>\n",
       "      <th id=\"T_2e8c1_level0_col0\" class=\"col_heading level0 col0\" >Open</th>\n",
       "      <th id=\"T_2e8c1_level0_col1\" class=\"col_heading level0 col1\" >High</th>\n",
       "      <th id=\"T_2e8c1_level0_col2\" class=\"col_heading level0 col2\" >Low</th>\n",
       "      <th id=\"T_2e8c1_level0_col3\" class=\"col_heading level0 col3\" >Close</th>\n",
       "      <th id=\"T_2e8c1_level0_col4\" class=\"col_heading level0 col4\" >Adj Close</th>\n",
       "      <th id=\"T_2e8c1_level0_col5\" class=\"col_heading level0 col5\" >Volume</th>\n",
       "    </tr>\n",
       "  </thead>\n",
       "  <tbody>\n",
       "    <tr>\n",
       "      <th id=\"T_2e8c1_level0_row0\" class=\"row_heading level0 row0\" >Open</th>\n",
       "      <td id=\"T_2e8c1_row0_col0\" class=\"data row0 col0\" >1.000000</td>\n",
       "      <td id=\"T_2e8c1_row0_col1\" class=\"data row0 col1\" >0.999763</td>\n",
       "      <td id=\"T_2e8c1_row0_col2\" class=\"data row0 col2\" >0.999691</td>\n",
       "      <td id=\"T_2e8c1_row0_col3\" class=\"data row0 col3\" >0.999445</td>\n",
       "      <td id=\"T_2e8c1_row0_col4\" class=\"data row0 col4\" >0.999445</td>\n",
       "      <td id=\"T_2e8c1_row0_col5\" class=\"data row0 col5\" >0.143866</td>\n",
       "    </tr>\n",
       "    <tr>\n",
       "      <th id=\"T_2e8c1_level0_row1\" class=\"row_heading level0 row1\" >High</th>\n",
       "      <td id=\"T_2e8c1_row1_col0\" class=\"data row1 col0\" >0.999763</td>\n",
       "      <td id=\"T_2e8c1_row1_col1\" class=\"data row1 col1\" >1.000000</td>\n",
       "      <td id=\"T_2e8c1_row1_col2\" class=\"data row1 col2\" >0.999606</td>\n",
       "      <td id=\"T_2e8c1_row1_col3\" class=\"data row1 col3\" >0.999771</td>\n",
       "      <td id=\"T_2e8c1_row1_col4\" class=\"data row1 col4\" >0.999771</td>\n",
       "      <td id=\"T_2e8c1_row1_col5\" class=\"data row1 col5\" >0.149006</td>\n",
       "    </tr>\n",
       "    <tr>\n",
       "      <th id=\"T_2e8c1_level0_row2\" class=\"row_heading level0 row2\" >Low</th>\n",
       "      <td id=\"T_2e8c1_row2_col0\" class=\"data row2 col0\" >0.999691</td>\n",
       "      <td id=\"T_2e8c1_row2_col1\" class=\"data row2 col1\" >0.999606</td>\n",
       "      <td id=\"T_2e8c1_row2_col2\" class=\"data row2 col2\" >1.000000</td>\n",
       "      <td id=\"T_2e8c1_row2_col3\" class=\"data row2 col3\" >0.999684</td>\n",
       "      <td id=\"T_2e8c1_row2_col4\" class=\"data row2 col4\" >0.999684</td>\n",
       "      <td id=\"T_2e8c1_row2_col5\" class=\"data row2 col5\" >0.138580</td>\n",
       "    </tr>\n",
       "    <tr>\n",
       "      <th id=\"T_2e8c1_level0_row3\" class=\"row_heading level0 row3\" >Close</th>\n",
       "      <td id=\"T_2e8c1_row3_col0\" class=\"data row3 col0\" >0.999445</td>\n",
       "      <td id=\"T_2e8c1_row3_col1\" class=\"data row3 col1\" >0.999771</td>\n",
       "      <td id=\"T_2e8c1_row3_col2\" class=\"data row3 col2\" >0.999684</td>\n",
       "      <td id=\"T_2e8c1_row3_col3\" class=\"data row3 col3\" >1.000000</td>\n",
       "      <td id=\"T_2e8c1_row3_col4\" class=\"data row3 col4\" >1.000000</td>\n",
       "      <td id=\"T_2e8c1_row3_col5\" class=\"data row3 col5\" >0.144794</td>\n",
       "    </tr>\n",
       "    <tr>\n",
       "      <th id=\"T_2e8c1_level0_row4\" class=\"row_heading level0 row4\" >Adj Close</th>\n",
       "      <td id=\"T_2e8c1_row4_col0\" class=\"data row4 col0\" >0.999445</td>\n",
       "      <td id=\"T_2e8c1_row4_col1\" class=\"data row4 col1\" >0.999771</td>\n",
       "      <td id=\"T_2e8c1_row4_col2\" class=\"data row4 col2\" >0.999684</td>\n",
       "      <td id=\"T_2e8c1_row4_col3\" class=\"data row4 col3\" >1.000000</td>\n",
       "      <td id=\"T_2e8c1_row4_col4\" class=\"data row4 col4\" >1.000000</td>\n",
       "      <td id=\"T_2e8c1_row4_col5\" class=\"data row4 col5\" >0.144794</td>\n",
       "    </tr>\n",
       "    <tr>\n",
       "      <th id=\"T_2e8c1_level0_row5\" class=\"row_heading level0 row5\" >Volume</th>\n",
       "      <td id=\"T_2e8c1_row5_col0\" class=\"data row5 col0\" >0.143866</td>\n",
       "      <td id=\"T_2e8c1_row5_col1\" class=\"data row5 col1\" >0.149006</td>\n",
       "      <td id=\"T_2e8c1_row5_col2\" class=\"data row5 col2\" >0.138580</td>\n",
       "      <td id=\"T_2e8c1_row5_col3\" class=\"data row5 col3\" >0.144794</td>\n",
       "      <td id=\"T_2e8c1_row5_col4\" class=\"data row5 col4\" >0.144794</td>\n",
       "      <td id=\"T_2e8c1_row5_col5\" class=\"data row5 col5\" >1.000000</td>\n",
       "    </tr>\n",
       "  </tbody>\n",
       "</table>\n"
      ],
      "text/plain": [
       "<pandas.io.formats.style.Styler at 0x21a64cc0150>"
      ]
     },
     "execution_count": 247,
     "metadata": {},
     "output_type": "execute_result"
    }
   ],
   "source": [
    "corr = df.corr()\n",
    "\n",
    "corr.style.background_gradient(cmap=\"coolwarm\")"
   ]
  },
  {
   "cell_type": "markdown",
   "metadata": {},
   "source": [
    "- As we can see, the relatively low correlation of \"Volume\" with price-related columns suggest that \"Volume\" column is not strongly linearly related to price movements"
   ]
  },
  {
   "cell_type": "code",
   "execution_count": 248,
   "metadata": {},
   "outputs": [
    {
     "data": {
      "text/html": [
       "<div>\n",
       "<style scoped>\n",
       "    .dataframe tbody tr th:only-of-type {\n",
       "        vertical-align: middle;\n",
       "    }\n",
       "\n",
       "    .dataframe tbody tr th {\n",
       "        vertical-align: top;\n",
       "    }\n",
       "\n",
       "    .dataframe thead th {\n",
       "        text-align: right;\n",
       "    }\n",
       "</style>\n",
       "<table border=\"1\" class=\"dataframe\">\n",
       "  <thead>\n",
       "    <tr style=\"text-align: right;\">\n",
       "      <th></th>\n",
       "      <th>Date</th>\n",
       "      <th>Open</th>\n",
       "      <th>High</th>\n",
       "      <th>Low</th>\n",
       "      <th>Close</th>\n",
       "      <th>Adj Close</th>\n",
       "    </tr>\n",
       "  </thead>\n",
       "  <tbody>\n",
       "    <tr>\n",
       "      <th>0</th>\n",
       "      <td>2010-06-29</td>\n",
       "      <td>3.800</td>\n",
       "      <td>5.000</td>\n",
       "      <td>3.508</td>\n",
       "      <td>4.778</td>\n",
       "      <td>4.778</td>\n",
       "    </tr>\n",
       "    <tr>\n",
       "      <th>1</th>\n",
       "      <td>2010-06-30</td>\n",
       "      <td>5.158</td>\n",
       "      <td>6.084</td>\n",
       "      <td>4.660</td>\n",
       "      <td>4.766</td>\n",
       "      <td>4.766</td>\n",
       "    </tr>\n",
       "    <tr>\n",
       "      <th>2</th>\n",
       "      <td>2010-07-01</td>\n",
       "      <td>5.000</td>\n",
       "      <td>5.184</td>\n",
       "      <td>4.054</td>\n",
       "      <td>4.392</td>\n",
       "      <td>4.392</td>\n",
       "    </tr>\n",
       "    <tr>\n",
       "      <th>3</th>\n",
       "      <td>2010-07-02</td>\n",
       "      <td>4.600</td>\n",
       "      <td>4.620</td>\n",
       "      <td>3.742</td>\n",
       "      <td>3.840</td>\n",
       "      <td>3.840</td>\n",
       "    </tr>\n",
       "    <tr>\n",
       "      <th>4</th>\n",
       "      <td>2010-07-06</td>\n",
       "      <td>4.000</td>\n",
       "      <td>4.000</td>\n",
       "      <td>3.166</td>\n",
       "      <td>3.222</td>\n",
       "      <td>3.222</td>\n",
       "    </tr>\n",
       "  </tbody>\n",
       "</table>\n",
       "</div>"
      ],
      "text/plain": [
       "         Date   Open   High    Low  Close  Adj Close\n",
       "0  2010-06-29  3.800  5.000  3.508  4.778      4.778\n",
       "1  2010-06-30  5.158  6.084  4.660  4.766      4.766\n",
       "2  2010-07-01  5.000  5.184  4.054  4.392      4.392\n",
       "3  2010-07-02  4.600  4.620  3.742  3.840      3.840\n",
       "4  2010-07-06  4.000  4.000  3.166  3.222      3.222"
      ]
     },
     "execution_count": 248,
     "metadata": {},
     "output_type": "execute_result"
    }
   ],
   "source": [
    "# we drop the \"Volume\" column\n",
    "\n",
    "df.drop(columns=\"Volume\", inplace=True)\n",
    "\n",
    "df.head()"
   ]
  },
  {
   "cell_type": "markdown",
   "metadata": {},
   "source": [
    "3. Scaling"
   ]
  },
  {
   "cell_type": "markdown",
   "metadata": {},
   "source": [
    "- Lets first create "
   ]
  },
  {
   "cell_type": "code",
   "execution_count": 249,
   "metadata": {},
   "outputs": [
    {
     "data": {
      "text/html": [
       "<div>\n",
       "<style scoped>\n",
       "    .dataframe tbody tr th:only-of-type {\n",
       "        vertical-align: middle;\n",
       "    }\n",
       "\n",
       "    .dataframe tbody tr th {\n",
       "        vertical-align: top;\n",
       "    }\n",
       "\n",
       "    .dataframe thead th {\n",
       "        text-align: right;\n",
       "    }\n",
       "</style>\n",
       "<table border=\"1\" class=\"dataframe\">\n",
       "  <thead>\n",
       "    <tr style=\"text-align: right;\">\n",
       "      <th></th>\n",
       "      <th>Date</th>\n",
       "      <th>Open</th>\n",
       "      <th>High</th>\n",
       "      <th>Low</th>\n",
       "      <th>Close</th>\n",
       "      <th>Adj Close</th>\n",
       "      <th>ts</th>\n",
       "    </tr>\n",
       "  </thead>\n",
       "  <tbody>\n",
       "    <tr>\n",
       "      <th>0</th>\n",
       "      <td>2010-06-29</td>\n",
       "      <td>3.800</td>\n",
       "      <td>5.000</td>\n",
       "      <td>3.508</td>\n",
       "      <td>4.778</td>\n",
       "      <td>4.778</td>\n",
       "      <td>1277769600000000000</td>\n",
       "    </tr>\n",
       "    <tr>\n",
       "      <th>1</th>\n",
       "      <td>2010-06-30</td>\n",
       "      <td>5.158</td>\n",
       "      <td>6.084</td>\n",
       "      <td>4.660</td>\n",
       "      <td>4.766</td>\n",
       "      <td>4.766</td>\n",
       "      <td>1277856000000000000</td>\n",
       "    </tr>\n",
       "    <tr>\n",
       "      <th>2</th>\n",
       "      <td>2010-07-01</td>\n",
       "      <td>5.000</td>\n",
       "      <td>5.184</td>\n",
       "      <td>4.054</td>\n",
       "      <td>4.392</td>\n",
       "      <td>4.392</td>\n",
       "      <td>1277942400000000000</td>\n",
       "    </tr>\n",
       "    <tr>\n",
       "      <th>3</th>\n",
       "      <td>2010-07-02</td>\n",
       "      <td>4.600</td>\n",
       "      <td>4.620</td>\n",
       "      <td>3.742</td>\n",
       "      <td>3.840</td>\n",
       "      <td>3.840</td>\n",
       "      <td>1278028800000000000</td>\n",
       "    </tr>\n",
       "    <tr>\n",
       "      <th>4</th>\n",
       "      <td>2010-07-06</td>\n",
       "      <td>4.000</td>\n",
       "      <td>4.000</td>\n",
       "      <td>3.166</td>\n",
       "      <td>3.222</td>\n",
       "      <td>3.222</td>\n",
       "      <td>1278374400000000000</td>\n",
       "    </tr>\n",
       "  </tbody>\n",
       "</table>\n",
       "</div>"
      ],
      "text/plain": [
       "        Date   Open   High    Low  Close  Adj Close                   ts\n",
       "0 2010-06-29  3.800  5.000  3.508  4.778      4.778  1277769600000000000\n",
       "1 2010-06-30  5.158  6.084  4.660  4.766      4.766  1277856000000000000\n",
       "2 2010-07-01  5.000  5.184  4.054  4.392      4.392  1277942400000000000\n",
       "3 2010-07-02  4.600  4.620  3.742  3.840      3.840  1278028800000000000\n",
       "4 2010-07-06  4.000  4.000  3.166  3.222      3.222  1278374400000000000"
      ]
     },
     "execution_count": 249,
     "metadata": {},
     "output_type": "execute_result"
    }
   ],
   "source": [
    "df[\"Date\"] = pd.to_datetime(df['Date'])\n",
    "\n",
    "# create time stamp to for linear regression later\n",
    "df[\"ts\"] = df.Date.values.astype(np.int64)\n",
    "\n",
    "df.head()"
   ]
  },
  {
   "cell_type": "code",
   "execution_count": 250,
   "metadata": {},
   "outputs": [
    {
     "data": {
      "text/plain": [
       "<Axes: xlabel='Date', ylabel='Close'>"
      ]
     },
     "execution_count": 250,
     "metadata": {},
     "output_type": "execute_result"
    },
    {
     "data": {
      "image/png": "[encoded data removed]",
      "text/plain": [
       "<Figure size 640x480 with 1 Axes>"
      ]
     },
     "metadata": {},
     "output_type": "display_data"
    }
   ],
   "source": [
    "df.plot.scatter(x='Date', y = 'Close')"
   ]
  },
  {
   "cell_type": "code",
   "execution_count": 251,
   "metadata": {},
   "outputs": [
    {
     "data": {
      "image/png": "[encoded data removed]",
      "text/plain": [
       "<Figure size 640x480 with 1 Axes>"
      ]
     },
     "metadata": {},
     "output_type": "display_data"
    }
   ],
   "source": [
    "ax1 = df.plot(kind='scatter', x='Date', y='Open', color='r')\n",
    "ax2 = df.plot(kind='scatter', x='Date', y='High', color='g', ax=ax1)\n",
    "ax3 = df.plot(kind='scatter', x='Date', y='Close', color='m', ax=ax1)\n"
   ]
  },
  {
   "cell_type": "markdown",
   "metadata": {},
   "source": [
    "4. Train our model"
   ]
  },
  {
   "cell_type": "markdown",
   "metadata": {},
   "source": [
    "- Split the set into training and testing test"
   ]
  },
  {
   "cell_type": "code",
   "execution_count": 252,
   "metadata": {},
   "outputs": [],
   "source": [
    "X = pd.DataFrame(df['Date'])\n",
    "y = pd.DataFrame(df['Close'])\n",
    "\n",
    "# # test_size = 0.33 meaning that 1/3 of values will be in a test array\n",
    "# Random state is a variable that seed the random generator, so that we can get hte same training\n",
    "# and testing set each run\n",
    "\n",
    "\n",
    "X_train, X_test, y_train, y_test = train_test_split(X, y, test_size=0.33, random_state=42)\n"
   ]
  },
  {
   "cell_type": "markdown",
   "metadata": {},
   "source": [
    "- 2/3 values in Date stored in X_train, and the rest is in X_test. We will now create linear regressor mode:"
   ]
  },
  {
   "cell_type": "code",
   "execution_count": 253,
   "metadata": {},
   "outputs": [
    {
     "ename": "TypeError",
     "evalue": "The DType <class 'numpy.dtype[datetime64]'> could not be promoted by <class 'numpy.dtype[float64]'>. This means that no common DType exists for the given inputs. For example they cannot be stored in a single array unless the dtype is `object`. The full list of DTypes is: (<class 'numpy.dtype[datetime64]'>, <class 'numpy.dtype[float64]'>)",
     "output_type": "error",
     "traceback": [
      "\u001b[1;31m---------------------------------------------------------------------------\u001b[0m",
      "\u001b[1;31mTypeError\u001b[0m                                 Traceback (most recent call last)",
      "\u001b[1;32md:\\Oslomet\\host23\\introai-assignment2\\solution.ipynb Cell 18\u001b[0m line \u001b[0;36m7\n\u001b[0;32m      <a href='vscode-notebook-cell:/d%3A/Oslomet/host23/introai-assignment2/solution.ipynb#X30sZmlsZQ%3D%3D?line=3'>4</a>\u001b[0m \u001b[39m# perform linear regression\u001b[39;00m\n\u001b[0;32m      <a href='vscode-notebook-cell:/d%3A/Oslomet/host23/introai-assignment2/solution.ipynb#X30sZmlsZQ%3D%3D?line=4'>5</a>\u001b[0m linear_regressor\u001b[39m.\u001b[39mfit(X_train, y_train)\n\u001b[1;32m----> <a href='vscode-notebook-cell:/d%3A/Oslomet/host23/introai-assignment2/solution.ipynb#X30sZmlsZQ%3D%3D?line=6'>7</a>\u001b[0m Y_pred \u001b[39m=\u001b[39m linear_regressor\u001b[39m.\u001b[39mpredict(X_train)\n",
      "File \u001b[1;32md:\\anaconda\\Lib\\site-packages\\sklearn\\linear_model\\_base.py:386\u001b[0m, in \u001b[0;36mLinearModel.predict\u001b[1;34m(self, X)\u001b[0m\n\u001b[0;32m    372\u001b[0m \u001b[39mdef\u001b[39;00m \u001b[39mpredict\u001b[39m(\u001b[39mself\u001b[39m, X):\n\u001b[0;32m    373\u001b[0m \u001b[39m    \u001b[39m\u001b[39m\"\"\"\u001b[39;00m\n\u001b[0;32m    374\u001b[0m \u001b[39m    Predict using the linear model.\u001b[39;00m\n\u001b[0;32m    375\u001b[0m \n\u001b[1;32m   (...)\u001b[0m\n\u001b[0;32m    384\u001b[0m \u001b[39m        Returns predicted values.\u001b[39;00m\n\u001b[0;32m    385\u001b[0m \u001b[39m    \"\"\"\u001b[39;00m\n\u001b[1;32m--> 386\u001b[0m     \u001b[39mreturn\u001b[39;00m \u001b[39mself\u001b[39m\u001b[39m.\u001b[39m_decision_function(X)\n",
      "File \u001b[1;32md:\\anaconda\\Lib\\site-packages\\sklearn\\linear_model\\_base.py:370\u001b[0m, in \u001b[0;36mLinearModel._decision_function\u001b[1;34m(self, X)\u001b[0m\n\u001b[0;32m    367\u001b[0m check_is_fitted(\u001b[39mself\u001b[39m)\n\u001b[0;32m    369\u001b[0m X \u001b[39m=\u001b[39m \u001b[39mself\u001b[39m\u001b[39m.\u001b[39m_validate_data(X, accept_sparse\u001b[39m=\u001b[39m[\u001b[39m\"\u001b[39m\u001b[39mcsr\u001b[39m\u001b[39m\"\u001b[39m, \u001b[39m\"\u001b[39m\u001b[39mcsc\u001b[39m\u001b[39m\"\u001b[39m, \u001b[39m\"\u001b[39m\u001b[39mcoo\u001b[39m\u001b[39m\"\u001b[39m], reset\u001b[39m=\u001b[39m\u001b[39mFalse\u001b[39;00m)\n\u001b[1;32m--> 370\u001b[0m \u001b[39mreturn\u001b[39;00m safe_sparse_dot(X, \u001b[39mself\u001b[39m\u001b[39m.\u001b[39mcoef_\u001b[39m.\u001b[39mT, dense_output\u001b[39m=\u001b[39m\u001b[39mTrue\u001b[39;00m) \u001b[39m+\u001b[39m \u001b[39mself\u001b[39m\u001b[39m.\u001b[39mintercept_\n",
      "File \u001b[1;32md:\\anaconda\\Lib\\site-packages\\sklearn\\utils\\extmath.py:193\u001b[0m, in \u001b[0;36msafe_sparse_dot\u001b[1;34m(a, b, dense_output)\u001b[0m\n\u001b[0;32m    191\u001b[0m         ret \u001b[39m=\u001b[39m np\u001b[39m.\u001b[39mdot(a, b)\n\u001b[0;32m    192\u001b[0m \u001b[39melse\u001b[39;00m:\n\u001b[1;32m--> 193\u001b[0m     ret \u001b[39m=\u001b[39m a \u001b[39m@\u001b[39m b\n\u001b[0;32m    195\u001b[0m \u001b[39mif\u001b[39;00m (\n\u001b[0;32m    196\u001b[0m     sparse\u001b[39m.\u001b[39missparse(a)\n\u001b[0;32m    197\u001b[0m     \u001b[39mand\u001b[39;00m sparse\u001b[39m.\u001b[39missparse(b)\n\u001b[0;32m    198\u001b[0m     \u001b[39mand\u001b[39;00m dense_output\n\u001b[0;32m    199\u001b[0m     \u001b[39mand\u001b[39;00m \u001b[39mhasattr\u001b[39m(ret, \u001b[39m\"\u001b[39m\u001b[39mtoarray\u001b[39m\u001b[39m\"\u001b[39m)\n\u001b[0;32m    200\u001b[0m ):\n\u001b[0;32m    201\u001b[0m     \u001b[39mreturn\u001b[39;00m ret\u001b[39m.\u001b[39mtoarray()\n",
      "\u001b[1;31mTypeError\u001b[0m: The DType <class 'numpy.dtype[datetime64]'> could not be promoted by <class 'numpy.dtype[float64]'>. This means that no common DType exists for the given inputs. For example they cannot be stored in a single array unless the dtype is `object`. The full list of DTypes is: (<class 'numpy.dtype[datetime64]'>, <class 'numpy.dtype[float64]'>)"
     ]
    }
   ],
   "source": [
    "# create object\n",
    "linear_regressor = LinearRegression()\n",
    "\n",
    "# perform linear regression\n",
    "linear_regressor.fit(X_train, y_train)\n",
    "\n",
    "Y_pred = linear_regressor.predict(X_train) # make prediction"
   ]
  },
  {
   "cell_type": "markdown",
   "metadata": {},
   "source": [
    "- Lets plot to see the result"
   ]
  },
  {
   "cell_type": "code",
   "execution_count": null,
   "metadata": {},
   "outputs": [
    {
     "data": {
      "image/png": "[encoded data removed]",
      "text/plain": [
       "<Figure size 640x480 with 1 Axes>"
      ]
     },
     "metadata": {},
     "output_type": "display_data"
    },
    {
     "name": "stdout",
     "output_type": "stream",
     "text": [
      "MSE = 21095.046555767265\n"
     ]
    }
   ],
   "source": [
    "plt.scatter(X_train, y_train)\n",
    "plt.plot(X_train, Y_pred, color='r')\n",
    "plt.title('Predict stocks')\n",
    "plt.xlabel('Timestamp')\n",
    "plt.ylabel('Price')\n",
    "\n",
    "plt.show()\n",
    "print( \"MSE = \"+str(metrics.mean_squared_error(y_train,Y_pred))) #Calculate MSE"
   ]
  }
 ],
 "metadata": {
  "kernelspec": {
   "display_name": "base",
   "language": "python",
   "name": "python3"
  },
  "language_info": {
   "codemirror_mode": {
    "name": "ipython",
    "version": 3
   },
   "file_extension": ".py",
   "mimetype": "text/x-python",
   "name": "python",
   "nbconvert_exporter": "python",
   "pygments_lexer": "ipython3",
   "version": "3.11.4"
  }
 },
 "nbformat": 4,
 "nbformat_minor": 2
}
